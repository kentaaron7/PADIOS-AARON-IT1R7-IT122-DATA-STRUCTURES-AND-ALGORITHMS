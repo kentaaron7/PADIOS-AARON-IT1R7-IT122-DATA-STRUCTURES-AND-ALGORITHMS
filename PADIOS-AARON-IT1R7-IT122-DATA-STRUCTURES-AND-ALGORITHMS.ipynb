{
 "cells": [
  {
   "cell_type": "code",
   "execution_count": 2,
   "id": "operational-finland",
   "metadata": {},
   "outputs": [
    {
     "name": "stdout",
     "output_type": "stream",
     "text": [
      "Discuss your learnings on Chapter 1  time-frame 8:00 - 30:35. Minimum of 200 characters\n",
      "I have learned on Chapter 1 time frame that It is not simple to program and to be a programmer\n",
      "I have learned to know these objectives\n",
      "Objectives:What is Data Structures and Algorithms? \n",
      " Characteristics of a Data Structure and Algorithm,Execution Time CasesWhy to Learn Data Structure and Algorithms \n",
      " Applications of Data Structure and AlgorithmsBasic TerminologyHow to write an Algorithm? Algorithm example \n",
      " Algorithm AnalysisAlgorithm ComplexitySpace ComplexityTime Complexity \n",
      " Local Environment Setup\n"
     ]
    }
   ],
   "source": [
    "print(\"Discuss your learnings on Chapter 1  time-frame 8:00 - 30:35. Minimum of 200 characters\")\n",
    "print(\"I have learned on Chapter 1 time frame that It is not simple to program and to be a programmer\")\n",
    "print(\"I have learned to know these objectives\")\n",
    "print(\"Objectives:What is Data Structures and Algorithms? \\n Characteristics of a Data Structure and Algorithm,Execution Time CasesWhy to Learn Data Structure and Algorithms \\n Applications of Data Structure and AlgorithmsBasic TerminologyHow to write an Algorithm? Algorithm example \\n Algorithm AnalysisAlgorithm ComplexitySpace ComplexityTime Complexity \\n Local Environment Setup\")"
   ]
  },
  {
   "cell_type": "code",
   "execution_count": 4,
   "id": "bridal-alignment",
   "metadata": {},
   "outputs": [
    {
     "name": "stdout",
     "output_type": "stream",
     "text": [
      "Discuss your learnings on Chapter 1  time-frame 35:00 - end. Minimum of 200 characters\n",
      "The things that I have learned in chapter 1 time frame 35:00 up \n",
      " to end are a plenty of handful basic knowledge when it comes to \n",
      " the basics of the subject of Data structures which includes basic \n",
      " how to write a proper algorithm. \n",
      " Space and time is also included in which it is important to create files that save as much time \n",
      " as possible that time is saved in dealing with programming \n",
      " same as space complexity, in which it is important that the code and algorithm created \n",
      " is as short and clean as possible without interfering the whole data structure\n"
     ]
    }
   ],
   "source": [
    "print(\"Discuss your learnings on Chapter 1  time-frame 35:00 - end. Minimum of 200 characters\")\n",
    "print(\"The things that I have learned in chapter 1 time frame 35:00 up \\n to end are a plenty of handful basic knowledge when it comes to \\n the basics of the subject of Data structures which includes basic \\n how to write a proper algorithm. \\n Space and time is also included in which it is important to create files that save as much time \\n as possible that time is saved in dealing with programming \\n same as space complexity, in which it is important that the code and algorithm created \\n is as short and clean as possible without interfering the whole data structure\")"
   ]
  },
  {
   "cell_type": "code",
   "execution_count": 5,
   "id": "fresh-correction",
   "metadata": {},
   "outputs": [
    {
     "name": "stdout",
     "output_type": "stream",
     "text": [
      "Discuss your learnings on Chapter 2  time-frame 5:00 - 9:00. Minimum of 200 characters\n",
      "my learning on chapter 2 timeframe in 5 minutes and 9 minutes is a lot of learning. \n",
      " Data Type Built-in Data Type Derived Data Type Basic Operations \n",
      " the different data types are discussed correctly even tho the video is short is lot of learning in a short time which follows time and space complexity. \n",
      " The data types are also useful including other types of operation that is included in the lesson. \n",
      " Chapter 2 is a very informative subject that is very good and well written\n"
     ]
    }
   ],
   "source": [
    "print(\"Discuss your learnings on Chapter 2  time-frame 5:00 - 9:00. Minimum of 200 characters\")\n",
    "print(\"my learning on chapter 2 timeframe in 5 minutes and 9 minutes is a lot of learning. \\n Data Type Built-in Data Type Derived Data Type Basic Operations \\n the different data types are discussed correctly even tho the video is short is lot of learning in a short time which follows time and space complexity. \\n The data types are also useful including other types of operation that is included in the lesson. \\n Chapter 2 is a very informative subject that is very good and well written\")"
   ]
  },
  {
   "cell_type": "code",
   "execution_count": 6,
   "id": "atlantic-harbor",
   "metadata": {},
   "outputs": [
    {
     "name": "stdout",
     "output_type": "stream",
     "text": [
      "Discuss your learnings on Chapter 3  time-frame 3:00 - 18:00. Minimum of 200 characters\n",
      " I have learned of the array. Array i s a container which can hold a fix number of items and these items should be of the same type.\n",
      "I also knew of the element. which means is an Each item stored in an array is called an element. \n",
      " Index is also mentioned in the chapter 3 lesson document − Each location of an element in an array has a numerical index, which is used to identify the element. \n",
      " Arrays can be declared in various ways in different languages . It is mentioned that Index starts with 0. and If an Array length is 10 it means it canstore 10 elements inside the array.\n"
     ]
    }
   ],
   "source": [
    "print(\"Discuss your learnings on Chapter 3  time-frame 3:00 - 18:00. Minimum of 200 characters\")\n",
    "print(\" I have learned of the array. Array i s a container which can hold a fix number of items and these items should be of the same type.\")\n",
    "print(\"I also knew of the element. which means is an Each item stored in an array is called an element. \\n Index is also mentioned in the chapter 3 lesson document − Each location of an element in an array has a numerical index, which is used to identify the element. \\n Arrays can be declared in various ways in different languages . It is mentioned that Index starts with 0. and If an Array length is 10 it means it canstore 10 elements inside the array.\")"
   ]
  },
  {
   "cell_type": "code",
   "execution_count": 3,
   "id": "beautiful-russian",
   "metadata": {},
   "outputs": [
    {
     "name": "stdout",
     "output_type": "stream",
     "text": [
      "11\n",
      "10\n",
      "33\n",
      "44\n",
      "55\n"
     ]
    }
   ],
   "source": [
    "from array import *\n",
    "arraything = array('i',[11,22,33,44,55])\n",
    "arraything[1] = 10\n",
    "for x in arraything:\n",
    "    print(x)"
   ]
  },
  {
   "cell_type": "code",
   "execution_count": null,
   "id": "hearing-truth",
   "metadata": {},
   "outputs": [],
   "source": []
  }
 ],
 "metadata": {
  "kernelspec": {
   "display_name": "Python 3",
   "language": "python",
   "name": "python3"
  },
  "language_info": {
   "codemirror_mode": {
    "name": "ipython",
    "version": 3
   },
   "file_extension": ".py",
   "mimetype": "text/x-python",
   "name": "python",
   "nbconvert_exporter": "python",
   "pygments_lexer": "ipython3",
   "version": "3.9.2"
  }
 },
 "nbformat": 4,
 "nbformat_minor": 5
}
